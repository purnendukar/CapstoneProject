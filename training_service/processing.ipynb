{
 "cells": [
  {
   "cell_type": "code",
   "execution_count": 13,
   "source": [
    "import pandas as pd\n",
    "import numpy as np\n",
    "from sklearn.model_selection import train_test_split,StratifiedShuffleSplit"
   ],
   "outputs": [],
   "metadata": {}
  },
  {
   "cell_type": "code",
   "execution_count": 4,
   "source": [
    "from sklearn.feature_extraction.text import CountVectorizer,TfidfVectorizer\n",
    "from sklearn.naive_bayes import MultinomialNB\n",
    "from sklearn.metrics import accuracy_score,f1_score,precision_score,precision_recall_curve"
   ],
   "outputs": [],
   "metadata": {}
  },
  {
   "cell_type": "code",
   "execution_count": 28,
   "source": [
    "from sklearn.metrics import confusion_matrix,classification_report\n",
    "from sklearn.preprocessing import LabelEncoder,OneHotEncoder,LabelBinarizer"
   ],
   "outputs": [],
   "metadata": {}
  },
  {
   "cell_type": "code",
   "execution_count": 32,
   "source": [
    "import os\n",
    "import pickle"
   ],
   "outputs": [],
   "metadata": {}
  },
  {
   "cell_type": "code",
   "execution_count": 7,
   "source": [
    "os.listdir('./data')"
   ],
   "outputs": [
    {
     "output_type": "execute_result",
     "data": {
      "text/plain": [
       "['preprocesseddata_40000.csv', 'preprocesseddata_10000.csv']"
      ]
     },
     "metadata": {},
     "execution_count": 7
    }
   ],
   "metadata": {}
  },
  {
   "cell_type": "code",
   "execution_count": 10,
   "source": [
    "data=pd.read_csv('./data/preprocesseddata_40000.csv',sep='|')"
   ],
   "outputs": [],
   "metadata": {}
  },
  {
   "cell_type": "code",
   "execution_count": 11,
   "source": [
    "data.head()"
   ],
   "outputs": [
    {
     "output_type": "execute_result",
     "data": {
      "text/plain": [
       "                                                text  topic\n",
       "0  footbal canada artist grant produc ident footb...  sport\n",
       "1  ucla stanford footbal stanford quarterback tan...   news\n",
       "2  it s natur footbal fan  m newcastl fan watch b...  sport\n",
       "3  footbal area roundup oct  friday night s hamme...   news\n",
       "4  it s natur footbal fan  m newcastl fan watch b...  sport"
      ],
      "text/html": [
       "<div>\n",
       "<style scoped>\n",
       "    .dataframe tbody tr th:only-of-type {\n",
       "        vertical-align: middle;\n",
       "    }\n",
       "\n",
       "    .dataframe tbody tr th {\n",
       "        vertical-align: top;\n",
       "    }\n",
       "\n",
       "    .dataframe thead th {\n",
       "        text-align: right;\n",
       "    }\n",
       "</style>\n",
       "<table border=\"1\" class=\"dataframe\">\n",
       "  <thead>\n",
       "    <tr style=\"text-align: right;\">\n",
       "      <th></th>\n",
       "      <th>text</th>\n",
       "      <th>topic</th>\n",
       "    </tr>\n",
       "  </thead>\n",
       "  <tbody>\n",
       "    <tr>\n",
       "      <th>0</th>\n",
       "      <td>footbal canada artist grant produc ident footb...</td>\n",
       "      <td>sport</td>\n",
       "    </tr>\n",
       "    <tr>\n",
       "      <th>1</th>\n",
       "      <td>ucla stanford footbal stanford quarterback tan...</td>\n",
       "      <td>news</td>\n",
       "    </tr>\n",
       "    <tr>\n",
       "      <th>2</th>\n",
       "      <td>it s natur footbal fan  m newcastl fan watch b...</td>\n",
       "      <td>sport</td>\n",
       "    </tr>\n",
       "    <tr>\n",
       "      <th>3</th>\n",
       "      <td>footbal area roundup oct  friday night s hamme...</td>\n",
       "      <td>news</td>\n",
       "    </tr>\n",
       "    <tr>\n",
       "      <th>4</th>\n",
       "      <td>it s natur footbal fan  m newcastl fan watch b...</td>\n",
       "      <td>sport</td>\n",
       "    </tr>\n",
       "  </tbody>\n",
       "</table>\n",
       "</div>"
      ]
     },
     "metadata": {},
     "execution_count": 11
    }
   ],
   "metadata": {}
  },
  {
   "cell_type": "code",
   "execution_count": 12,
   "source": [
    "data['topic'].value_counts()"
   ],
   "outputs": [
    {
     "output_type": "execute_result",
     "data": {
      "text/plain": [
       "news             26004\n",
       "business          2887\n",
       "finance           2073\n",
       "economics         1709\n",
       "science           1496\n",
       "tech              1399\n",
       "sport             1248\n",
       "entertainment      999\n",
       "gaming             609\n",
       "world              580\n",
       "politics           320\n",
       "energy             187\n",
       "music              131\n",
       "travel             127\n",
       "beauty             126\n",
       "food                94\n",
       "opinion             11\n",
       "Name: topic, dtype: int64"
      ]
     },
     "metadata": {},
     "execution_count": 12
    }
   ],
   "metadata": {}
  },
  {
   "cell_type": "code",
   "execution_count": 16,
   "source": [
    "X=data['text']\n",
    "y=data['topic']"
   ],
   "outputs": [],
   "metadata": {}
  },
  {
   "cell_type": "code",
   "execution_count": 15,
   "source": [
    "ss=StratifiedShuffleSplit(n_splits=1,test_size=0.3)"
   ],
   "outputs": [],
   "metadata": {}
  },
  {
   "cell_type": "code",
   "execution_count": 23,
   "source": [
    "for train_indexes,test_indexes in ss.split(X,y):\n",
    "    train_x,train_y=data.loc[train_indexes,'text'],data.loc[train_indexes,'topic']\n",
    "    test_x,test_y=data.loc[test_indexes,'text'],data.loc[test_indexes,'topic']"
   ],
   "outputs": [],
   "metadata": {}
  },
  {
   "cell_type": "code",
   "execution_count": 24,
   "source": [
    "train_x.shape,train_y.shape"
   ],
   "outputs": [
    {
     "output_type": "execute_result",
     "data": {
      "text/plain": [
       "((28000,), (28000,))"
      ]
     },
     "metadata": {},
     "execution_count": 24
    }
   ],
   "metadata": {}
  },
  {
   "cell_type": "code",
   "execution_count": 25,
   "source": [
    "tfidf=TfidfVectorizer(max_features=10000)\n",
    "tfidf.fit(train_x,)\n",
    "train_x=tfidf.transform(train_x)"
   ],
   "outputs": [],
   "metadata": {}
  },
  {
   "cell_type": "code",
   "execution_count": 42,
   "source": [
    "pickle.dump(tfidf,open('./models/tfidfvectorizer.pkl','wb'))"
   ],
   "outputs": [],
   "metadata": {}
  },
  {
   "cell_type": "code",
   "execution_count": 26,
   "source": [
    "train_x.shape"
   ],
   "outputs": [
    {
     "output_type": "execute_result",
     "data": {
      "text/plain": [
       "(28000, 10000)"
      ]
     },
     "metadata": {},
     "execution_count": 26
    }
   ],
   "metadata": {}
  },
  {
   "cell_type": "code",
   "execution_count": 29,
   "source": [
    "le=LabelEncoder()\n",
    "train_y_enc=le.fit_transform(train_y)"
   ],
   "outputs": [],
   "metadata": {}
  },
  {
   "cell_type": "code",
   "execution_count": 30,
   "source": [
    "le.classes_"
   ],
   "outputs": [
    {
     "output_type": "execute_result",
     "data": {
      "text/plain": [
       "array(['beauty', 'business', 'economics', 'energy', 'entertainment',\n",
       "       'finance', 'food', 'gaming', 'music', 'news', 'opinion',\n",
       "       'politics', 'science', 'sport', 'tech', 'travel', 'world'],\n",
       "      dtype=object)"
      ]
     },
     "metadata": {},
     "execution_count": 30
    }
   ],
   "metadata": {}
  },
  {
   "cell_type": "code",
   "execution_count": 34,
   "source": [
    "mydict=dict()\n",
    "for idx,item in enumerate(le.classes_):\n",
    "    mydict[idx]=item\n",
    "pickle.dump(mydict,open('classmapper.pkl','wb'))"
   ],
   "outputs": [],
   "metadata": {}
  },
  {
   "cell_type": "code",
   "execution_count": 35,
   "source": [
    "mydict"
   ],
   "outputs": [
    {
     "output_type": "execute_result",
     "data": {
      "text/plain": [
       "{0: 'beauty',\n",
       " 1: 'business',\n",
       " 2: 'economics',\n",
       " 3: 'energy',\n",
       " 4: 'entertainment',\n",
       " 5: 'finance',\n",
       " 6: 'food',\n",
       " 7: 'gaming',\n",
       " 8: 'music',\n",
       " 9: 'news',\n",
       " 10: 'opinion',\n",
       " 11: 'politics',\n",
       " 12: 'science',\n",
       " 13: 'sport',\n",
       " 14: 'tech',\n",
       " 15: 'travel',\n",
       " 16: 'world'}"
      ]
     },
     "metadata": {},
     "execution_count": 35
    }
   ],
   "metadata": {}
  },
  {
   "cell_type": "code",
   "execution_count": 43,
   "source": [
    "pickle.dump(le,open('./models/labelencoder.pkl','wb'))"
   ],
   "outputs": [],
   "metadata": {}
  },
  {
   "cell_type": "code",
   "execution_count": 36,
   "source": [
    "multinb=MultinomialNB()"
   ],
   "outputs": [],
   "metadata": {}
  },
  {
   "cell_type": "code",
   "execution_count": 37,
   "source": [
    "multinb.fit(train_x,train_y_enc)"
   ],
   "outputs": [
    {
     "output_type": "execute_result",
     "data": {
      "text/plain": [
       "MultinomialNB()"
      ]
     },
     "metadata": {},
     "execution_count": 37
    }
   ],
   "metadata": {}
  },
  {
   "cell_type": "code",
   "execution_count": 40,
   "source": [
    "multinb.score(train_x,train_y_enc)"
   ],
   "outputs": [
    {
     "output_type": "execute_result",
     "data": {
      "text/plain": [
       "0.6908571428571428"
      ]
     },
     "metadata": {},
     "execution_count": 40
    }
   ],
   "metadata": {}
  },
  {
   "cell_type": "code",
   "execution_count": 45,
   "source": [
    "pickle.dump(multinb,open('./models/multinbmodel.pkl','wb'))"
   ],
   "outputs": [],
   "metadata": {}
  },
  {
   "cell_type": "code",
   "execution_count": 47,
   "source": [
    "import nltk\n",
    "import json\n",
    "import pickle\n",
    "from nltk.stem import PorterStemmer\n",
    "from nltk import word_tokenize,sent_tokenize\n",
    "from nltk.corpus import stopwords\n",
    "import sys\n",
    "import re"
   ],
   "outputs": [],
   "metadata": {}
  },
  {
   "cell_type": "code",
   "execution_count": 63,
   "source": [
    "def text_preprocessor(text):\n",
    "    stemmer=PorterStemmer()\n",
    "    sents=' '.join([sent for sent in sent_tokenize(text)])\n",
    "    words=[word for word in word_tokenize(sents) if not word in stopwords.words('english')]\n",
    "    words=[word for word in words if len(word)>1]\n",
    "    #words=[word for word in words if not word in punctuation]\n",
    "    words=[re.sub('[^a-zA-Z]+', '',word) for word in words]\n",
    "    #tagged_words=[nltk.pos_tag(word) for word in words]\n",
    "    words=' '.join([stemmer.stem(word) for word in words])\n",
    "    vectroizer=pickle.load(open('./models/tfidfvectorizer.pkl','rb'))\n",
    "    transformed=vectroizer.transform([words])\n",
    "    return transformed\n",
    "        "
   ],
   "outputs": [],
   "metadata": {}
  },
  {
   "cell_type": "code",
   "execution_count": 64,
   "source": [
    "mytext=\"While Elon Musk has traditionally shown his support for the cryptocurrency Dogecoin, his most recent tweet has some crypto supporters seeking out other currencies as the post seemed to resemble another coin mascot – a bunny.(_/)( •_•)/ > _— Elon Musk (@elonmusk) October 17, 2021 The nondescript tweet from Musk caused bunny-themed coins to jump, including Bunny Park, Pancake Bunny, Little Angry Bunny V2, and Rewards Bunny, all gaining in value, according to Benzinga.Currency BunnyRocket was up 88.\""
   ],
   "outputs": [],
   "metadata": {}
  },
  {
   "cell_type": "code",
   "execution_count": 65,
   "source": [
    "trans_text=text_preprocessor(mytext)"
   ],
   "outputs": [],
   "metadata": {}
  },
  {
   "cell_type": "code",
   "execution_count": 66,
   "source": [
    "trans_text"
   ],
   "outputs": [
    {
     "output_type": "execute_result",
     "data": {
      "text/plain": [
       "<1x10000 sparse matrix of type '<class 'numpy.float64'>'\n",
       "\twith 30 stored elements in Compressed Sparse Row format>"
      ]
     },
     "metadata": {},
     "execution_count": 66
    }
   ],
   "metadata": {}
  },
  {
   "cell_type": "code",
   "execution_count": 80,
   "source": [
    "def predictor(transformed_text):\n",
    "    model=pickle.load(open('./models/multinbmodel.pkl','rb'))\n",
    "    classmapper=pickle.load(open('./models/classmapper.pkl','rb'))\n",
    "    pred=model.predict(transformed_text)[0]\n",
    "    #print(pred)\n",
    "    classname=classmapper.get(pred)\n",
    "    return classname"
   ],
   "outputs": [],
   "metadata": {}
  },
  {
   "cell_type": "code",
   "execution_count": 81,
   "source": [
    "predictor(trans_text)"
   ],
   "outputs": [
    {
     "output_type": "execute_result",
     "data": {
      "text/plain": [
       "'news'"
      ]
     },
     "metadata": {},
     "execution_count": 81
    }
   ],
   "metadata": {}
  },
  {
   "cell_type": "code",
   "execution_count": 71,
   "source": [
    "classmapper=pickle.load(open('./models/classmapper.pkl','rb'))"
   ],
   "outputs": [],
   "metadata": {}
  },
  {
   "cell_type": "code",
   "execution_count": 73,
   "source": [
    "classmapper.get(0)"
   ],
   "outputs": [
    {
     "output_type": "execute_result",
     "data": {
      "text/plain": [
       "'beauty'"
      ]
     },
     "metadata": {},
     "execution_count": 73
    }
   ],
   "metadata": {}
  },
  {
   "cell_type": "code",
   "execution_count": null,
   "source": [],
   "outputs": [],
   "metadata": {}
  }
 ],
 "metadata": {
  "orig_nbformat": 4,
  "language_info": {
   "name": "python",
   "version": "3.6.9",
   "mimetype": "text/x-python",
   "codemirror_mode": {
    "name": "ipython",
    "version": 3
   },
   "pygments_lexer": "ipython3",
   "nbconvert_exporter": "python",
   "file_extension": ".py"
  },
  "kernelspec": {
   "name": "python3",
   "display_name": "Python 3.6.9 64-bit ('week3': venv)"
  },
  "interpreter": {
   "hash": "65afb1fee67bb982b22feee0b079769ba000dc15a5217650f103462b0c7a33dc"
  }
 },
 "nbformat": 4,
 "nbformat_minor": 2
}
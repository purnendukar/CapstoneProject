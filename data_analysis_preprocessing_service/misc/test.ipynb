{
 "cells": [
  {
   "cell_type": "code",
   "execution_count": 1,
   "source": [
    "from pyspark.sql import SparkSession"
   ],
   "outputs": [],
   "metadata": {}
  },
  {
   "cell_type": "code",
   "execution_count": 2,
   "source": [
    "sparksession=SparkSession.builder.appName('sqlconnection').getOrCreate()"
   ],
   "outputs": [],
   "metadata": {}
  },
  {
   "cell_type": "code",
   "execution_count": 3,
   "source": [
    "spark = SparkSession.builder.config(\"spark.jars\", \"/usr/share/java/mysql-connector-java-8.0.22.jar\") \\\n",
    "    .master(\"local\").appName(\"PySpark_MySQL_test\").getOrCreate()"
   ],
   "outputs": [],
   "metadata": {}
  },
  {
   "cell_type": "code",
   "execution_count": 5,
   "source": [
    "config = {\n",
    "    'host': '127.0.0.1',\n",
    "    'port': 3307,\n",
    "    'user': 'root',\n",
    "    'password': 'root',\n",
    "    'database': 'capstone',\n",
    "    'test_table': 'news_data'\n",
    "}\n",
    "db_user = config.get('user')\n",
    "db_pwd = config.get('password')\n",
    "db_host = config.get('host')\n",
    "db_port = config.get('port')\n",
    "db_name = config.get('database')# specify connection string\n",
    "db_table=config.get('test_table')"
   ],
   "outputs": [],
   "metadata": {}
  },
  {
   "cell_type": "code",
   "execution_count": 3,
   "source": [
    "\"\"\"import sqlalchemy as db\n",
    "import pymysql as pymysql\n",
    "\n",
    "# specify database configurations\n",
    "\n",
    "\n",
    "connection_str = f'mysql+pymysql://{db_user}:{db_pwd}@{db_host}:{db_port}/{db_name}'# connect to database\n",
    "engine = db.create_engine(connection_str)\n",
    "connection = engine.connect()# pull metadata of a table\n",
    "metadata = db.MetaData(bind=engine)\n",
    "metadata.reflect(only=[db_table])\n",
    "\n",
    "test_table = metadata.tables[db_table]\n",
    "\n",
    "test_table\n",
    "\"\"\""
   ],
   "outputs": [
    {
     "output_type": "execute_result",
     "data": {
      "text/plain": [
       "\"import sqlalchemy as db\\nimport pymysql as pymysql\\n\\n# specify database configurations\\n\\n\\nconnection_str = f'mysql+pymysql://{db_user}:{db_pwd}@{db_host}:{db_port}/{db_name}'# connect to database\\nengine = db.create_engine(connection_str)\\nconnection = engine.connect()# pull metadata of a table\\nmetadata = db.MetaData(bind=engine)\\nmetadata.reflect(only=[db_table])\\n\\ntest_table = metadata.tables[db_table]\\n\\ntest_table\\n\""
      ]
     },
     "metadata": {},
     "execution_count": 3
    }
   ],
   "metadata": {}
  },
  {
   "cell_type": "code",
   "execution_count": 6,
   "source": [
    "import mysql.connector as mysql\n",
    "db = mysql.connect(\n",
    "    host = db_host,\n",
    "    user = db_user,\n",
    "    passwd = db_pwd,\n",
    "    database = db_name,\n",
    "    port=db_port\n",
    ")"
   ],
   "outputs": [],
   "metadata": {}
  },
  {
   "cell_type": "code",
   "execution_count": 7,
   "source": [
    "connn=db.cursor()"
   ],
   "outputs": [],
   "metadata": {}
  },
  {
   "cell_type": "code",
   "execution_count": 8,
   "source": [
    "query='select count(*) from news_data'\n",
    "res=connn.execute(query)"
   ],
   "outputs": [],
   "metadata": {}
  },
  {
   "cell_type": "code",
   "execution_count": 9,
   "source": [
    "print(res)"
   ],
   "outputs": [
    {
     "output_type": "stream",
     "name": "stdout",
     "text": [
      "None\n"
     ]
    }
   ],
   "metadata": {}
  },
  {
   "cell_type": "code",
   "execution_count": 10,
   "source": [
    "res=connn.fetchall()"
   ],
   "outputs": [],
   "metadata": {}
  },
  {
   "cell_type": "code",
   "execution_count": 11,
   "source": [
    "print(res)"
   ],
   "outputs": [
    {
     "output_type": "stream",
     "name": "stdout",
     "text": [
      "[(49028,)]\n"
     ]
    }
   ],
   "metadata": {}
  },
  {
   "cell_type": "code",
   "execution_count": 12,
   "source": [
    "query='select * from news_data'\n",
    "connn.execute(query)\n",
    "records=connn.fetchall()\n"
   ],
   "outputs": [],
   "metadata": {}
  },
  {
   "cell_type": "code",
   "execution_count": 64,
   "source": [
    "len(records[0]"
   ],
   "outputs": [
    {
     "output_type": "execute_result",
     "data": {
      "text/plain": [
       "6"
      ]
     },
     "metadata": {},
     "execution_count": 64
    }
   ],
   "metadata": {}
  },
  {
   "cell_type": "code",
   "execution_count": 13,
   "source": [
    "from datetime import datetime"
   ],
   "outputs": [],
   "metadata": {}
  },
  {
   "cell_type": "code",
   "execution_count": 14,
   "source": [
    "ids=[]\n",
    "title=[]\n",
    "createddate=[]\n",
    "summary=[]\n",
    "topic=[]\n",
    "urls=[]\n",
    "for rec in records:\n",
    "    ids.append(rec[0])\n",
    "    title.append(rec[1])\n",
    "    createddate.append(str(rec[2]))\n",
    "    summary.append(rec[3])\n",
    "    topic.append(rec[4])\n",
    "    urls.append(rec[5])"
   ],
   "outputs": [],
   "metadata": {}
  },
  {
   "cell_type": "code",
   "execution_count": 75,
   "source": [
    "records"
   ],
   "outputs": [
    {
     "output_type": "execute_result",
     "data": {
      "text/plain": [
       "list"
      ]
     },
     "metadata": {},
     "execution_count": 75
    }
   ],
   "metadata": {}
  },
  {
   "cell_type": "code",
   "execution_count": 15,
   "source": [
    "data={'id':ids,\n",
    "'title':title,\n",
    "'createddate':createddate,\n",
    "'summary':summary,\n",
    "'topic':topic,\n",
    "'source_url':urls}"
   ],
   "outputs": [],
   "metadata": {}
  },
  {
   "cell_type": "code",
   "execution_count": 16,
   "source": [
    "from pyspark.sql import SparkSession\n",
    "import pandas as pd"
   ],
   "outputs": [],
   "metadata": {}
  },
  {
   "cell_type": "code",
   "execution_count": 17,
   "source": [
    "sparksession=SparkSession.builder.appName('preprocessor').getOrCreate()\n"
   ],
   "outputs": [],
   "metadata": {}
  },
  {
   "cell_type": "code",
   "execution_count": 18,
   "source": [
    "df=pd.DataFrame(data)"
   ],
   "outputs": [],
   "metadata": {}
  },
  {
   "cell_type": "code",
   "execution_count": 26,
   "source": [
    "df.to_csv('../data/data.csv',index=False,header=True,sep='|')"
   ],
   "outputs": [],
   "metadata": {}
  },
  {
   "cell_type": "code",
   "execution_count": null,
   "source": [
    "df.to"
   ],
   "outputs": [],
   "metadata": {}
  },
  {
   "cell_type": "code",
   "execution_count": 19,
   "source": [
    "rdd=sparksession.createDataFrame(df)"
   ],
   "outputs": [],
   "metadata": {}
  },
  {
   "cell_type": "code",
   "execution_count": 20,
   "source": [
    "rdd.take(1)"
   ],
   "outputs": [
    {
     "output_type": "execute_result",
     "data": {
      "text/plain": [
       "[Row(id=1, title='Football Canada, artist Grant produce identity for football in Indigenous communities', createddate='2021-09-29', summary=\"Football Canada and Indigenous artist Kolten Khasalus Grant have collaborated to produce a national identity for football in Indigenous communities across the country. The Indigenous Football Canada logo will be available on merchandise for Football Weekend in Canada on Oct. 15. Net proceeds will be directed toward the development and support of Indigenous football. 'Football Canada's commitment to diversity is always evolving,' Football Canada president Jim Mullin said in a statement. 'This stu\", topic='sport', source_url='theglobeandmail.com')]"
      ]
     },
     "metadata": {},
     "execution_count": 20
    }
   ],
   "metadata": {}
  },
  {
   "cell_type": "code",
   "execution_count": 29,
   "source": [
    "rdd=rdd.dropna(how='any')"
   ],
   "outputs": [],
   "metadata": {}
  },
  {
   "cell_type": "code",
   "execution_count": 31,
   "source": [
    "rdd_collect=rdd.collect()"
   ],
   "outputs": [],
   "metadata": {}
  },
  {
   "cell_type": "code",
   "execution_count": 76,
   "source": [
    "len(rdd_collect)"
   ],
   "outputs": [
    {
     "output_type": "execute_result",
     "data": {
      "text/plain": [
       "48329"
      ]
     },
     "metadata": {},
     "execution_count": 76
    }
   ],
   "metadata": {}
  },
  {
   "cell_type": "code",
   "execution_count": 77,
   "source": [
    "rdd_collect[:5]"
   ],
   "outputs": [
    {
     "output_type": "execute_result",
     "data": {
      "text/plain": [
       "[Row(id=1, title='Football Canada, artist Grant produce identity for football in Indigenous communities', createddate='2021-09-29', summary=\"Football Canada and Indigenous artist Kolten Khasalus Grant have collaborated to produce a national identity for football in Indigenous communities across the country. The Indigenous Football Canada logo will be available on merchandise for Football Weekend in Canada on Oct. 15. Net proceeds will be directed toward the development and support of Indigenous football. 'Football Canada's commitment to diversity is always evolving,' Football Canada president Jim Mullin said in a statement. 'This stu\", topic='sport', source_url='theglobeandmail.com'),\n",
       " Row(id=2, title='UCLA Stanford Football', createddate='2021-10-01', summary='Stanford quarterback Tanner McKee (No. 18) throws a touchdown pass against UCLA during the second half on Saturday, Sept. 25, 2021, in Stanford, Calif.', topic='news', source_url='apnews.com'),\n",
       " Row(id=3, title=\"'It's natural as a football fan'\", createddate='2021-09-29', summary='\"I\\'m the same as a Newcastle fan, when I watch I blame the referees still!\"\\n\\n\\n\\nFormer Premier League referee, Mark Clattenburg talks to #BBCBreakfast about the pressures of the job.\\n\\n\\n\\nMore here: https://t.co/Rzad5fYYRp pic.twitter.com/1K6pnQfu6A', topic='sport', source_url='bbc.co.uk'),\n",
       " Row(id=4, title='FOOTBALL: Area roundup', createddate='2021-10-02', summary=\"Oct. 2â€”Friday night's 'Hammer' game turned into the Eli Carter show. Tipton's junior running back accounted for 284 yards of offense and all three touchdowns as the Class 2A No. 4-ranked Blue Devils shut out Hamilton Heights 21-0 in Hoosier Conference football.\\n\\nNot only did Tipton win the Hammer a fifth straight year, the Blue Devils improved to 3-0 in the HC East Division and 7-0 overall. Tipton travels to Western next Friday night to play for the East Division championship and a date in the c\", topic='news', source_url='yahoo.com'),\n",
       " Row(id=5, title=\"'It's natural as a football fan'\", createddate='2021-09-29', summary='\"I\\'m the same as a Newcastle fan, when I watch I blame the referees still!\"\\n\\n\\n\\nFormer Premier League referee, Mark Clattenburg talks to #BBCBreakfast about the pressures of the job.\\n\\n\\n\\nMore here: https://t.co/Rzad5fYYRp pic.twitter.com/1K6pnQfu6A', topic='sport', source_url='bbc.com')]"
      ]
     },
     "metadata": {},
     "execution_count": 77
    }
   ],
   "metadata": {}
  },
  {
   "cell_type": "code",
   "execution_count": 34,
   "source": [
    "import nltk\n",
    "from string import punctuation\n",
    "from nltk import word_tokenize,sent_tokenize\n",
    "from nltk.corpus import stopwords\n",
    "from nltk.stem import PorterStemmer\n",
    "from nltk.stem.wordnet import WordNetLemmatizer"
   ],
   "outputs": [],
   "metadata": {}
  },
  {
   "cell_type": "code",
   "execution_count": 32,
   "source": [
    "corpus=[]\n",
    "topic=[]\n",
    "for row in rdd_collect:\n",
    "    text=row['title']+' '+row['summary']\n",
    "    corpus.append(text)\n",
    "    topic.append(row['topic'])\n",
    "    "
   ],
   "outputs": [],
   "metadata": {}
  },
  {
   "cell_type": "code",
   "execution_count": 33,
   "source": [
    "len(corpus),len(topic)"
   ],
   "outputs": [
    {
     "output_type": "execute_result",
     "data": {
      "text/plain": [
       "(48329, 48329)"
      ]
     },
     "metadata": {},
     "execution_count": 33
    }
   ],
   "metadata": {}
  },
  {
   "cell_type": "code",
   "execution_count": 45,
   "source": [
    "updated_corpus=[]\n",
    "stemmer=PorterStemmer()\n",
    "for row in corpus:\n",
    "    sents=' '.join([sent for sent in sent_tokenize(row)])\n",
    "    words=[word for word in word_tokenize(sents) if not word in stopwords.words('english')]\n",
    "    words=[word for word in words if len(word)>1]\n",
    "    words=[word for word in words if not word in punctuation]\n",
    "    #tagged_words=[nltk.pos_tag(word) for word in words]\n",
    "    words=' '.join([stemmer.stem(word) for word in words])\n",
    "    updated_corpus.append(words)\n",
    "    break;\n",
    "\n",
    "\n",
    "\n"
   ],
   "outputs": [],
   "metadata": {}
  },
  {
   "cell_type": "code",
   "execution_count": 46,
   "source": [
    "updated_corpus"
   ],
   "outputs": [
    {
     "output_type": "execute_result",
     "data": {
      "text/plain": [
       "[\"footbal canada artist grant produc ident footbal indigen commun footbal canada indigen artist kolten khasalu grant collabor produc nation ident footbal indigen commun across countri the indigen footbal canada logo avail merchandis footbal weekend canada oct. 15 net proce direct toward develop support indigen footbal 'footbal canada 's commit divers alway evolv footbal canada presid jim mullin said statement 'thi stu\"]"
      ]
     },
     "metadata": {},
     "execution_count": 46
    }
   ],
   "metadata": {}
  },
  {
   "cell_type": "code",
   "execution_count": 36,
   "source": [],
   "outputs": [
    {
     "output_type": "execute_result",
     "data": {
      "text/plain": [
       "'!\"#$%&\\'()*+,-./:;<=>?@[\\\\]^_`{|}~'"
      ]
     },
     "metadata": {},
     "execution_count": 36
    }
   ],
   "metadata": {}
  },
  {
   "cell_type": "code",
   "execution_count": 41,
   "source": [
    "c=[word for word in a if word not in ['!\"#$%&\\'()*+,-./:;<=>?@[\\\\]^_`{|}~']]"
   ],
   "outputs": [],
   "metadata": {}
  },
  {
   "cell_type": "code",
   "execution_count": 43,
   "source": [
    "nltk.download('punkt')"
   ],
   "outputs": [
    {
     "output_type": "stream",
     "name": "stderr",
     "text": [
      "[nltk_data] Downloading package punkt to /home/ravikumar/nltk_data...\n",
      "[nltk_data]   Unzipping tokenizers/punkt.zip.\n"
     ]
    },
    {
     "output_type": "execute_result",
     "data": {
      "text/plain": [
       "True"
      ]
     },
     "metadata": {},
     "execution_count": 43
    }
   ],
   "metadata": {}
  },
  {
   "cell_type": "code",
   "execution_count": 30,
   "source": [
    "topic"
   ],
   "outputs": [
    {
     "output_type": "execute_result",
     "data": {
      "text/plain": [
       "['sport']"
      ]
     },
     "metadata": {},
     "execution_count": 30
    }
   ],
   "metadata": {}
  },
  {
   "cell_type": "code",
   "execution_count": 47,
   "source": [
    "import json"
   ],
   "outputs": [],
   "metadata": {}
  },
  {
   "cell_type": "code",
   "execution_count": 60,
   "source": [
    "with open('../preprocessor/db_config.json','r') as f:\n",
    "    a=json.load(f)[0]"
   ],
   "outputs": [],
   "metadata": {}
  },
  {
   "cell_type": "code",
   "execution_count": 61,
   "source": [
    "print(a)"
   ],
   "outputs": [
    {
     "output_type": "stream",
     "name": "stdout",
     "text": [
      "{'host': '127.0.0.1', 'port': 3307, 'user': 'root', 'password': 'root', 'database': 'capstone', 'test_table': 'news_data'}\n"
     ]
    }
   ],
   "metadata": {}
  },
  {
   "cell_type": "code",
   "execution_count": 62,
   "source": [
    "a['host']"
   ],
   "outputs": [
    {
     "output_type": "execute_result",
     "data": {
      "text/plain": [
       "'127.0.0.1'"
      ]
     },
     "metadata": {},
     "execution_count": 62
    }
   ],
   "metadata": {}
  },
  {
   "cell_type": "code",
   "execution_count": 65,
   "source": [
    "schema=['id','title','createddate','summary','topic','sourceurl']"
   ],
   "outputs": [],
   "metadata": {}
  },
  {
   "cell_type": "code",
   "execution_count": 66,
   "source": [
    "import pickle"
   ],
   "outputs": [],
   "metadata": {}
  },
  {
   "cell_type": "code",
   "execution_count": 69,
   "source": [
    "pickle.dump(schema,open('../data/schema.pkl','wb'))"
   ],
   "outputs": [],
   "metadata": {}
  },
  {
   "cell_type": "code",
   "execution_count": 71,
   "source": [
    "x=pickle.load(open('../data/schema.pkl','rb'))"
   ],
   "outputs": [],
   "metadata": {}
  },
  {
   "cell_type": "code",
   "execution_count": 73,
   "source": [
    "type(x)"
   ],
   "outputs": [
    {
     "output_type": "execute_result",
     "data": {
      "text/plain": [
       "list"
      ]
     },
     "metadata": {},
     "execution_count": 73
    }
   ],
   "metadata": {}
  },
  {
   "cell_type": "code",
   "execution_count": 78,
   "source": [
    "import os"
   ],
   "outputs": [],
   "metadata": {}
  },
  {
   "cell_type": "code",
   "execution_count": 80,
   "source": [
    "os.p"
   ],
   "outputs": [
    {
     "output_type": "error",
     "ename": "AttributeError",
     "evalue": "module 'os' has no attribute 'abspath'",
     "traceback": [
      "\u001b[0;31m---------------------------------------------------------------------------\u001b[0m",
      "\u001b[0;31mAttributeError\u001b[0m                            Traceback (most recent call last)",
      "\u001b[0;32m<ipython-input-80-e90482bba53e>\u001b[0m in \u001b[0;36m<module>\u001b[0;34m\u001b[0m\n\u001b[0;32m----> 1\u001b[0;31m \u001b[0mos\u001b[0m\u001b[0;34m.\u001b[0m\u001b[0mabspath\u001b[0m\u001b[0;34m\u001b[0m\u001b[0;34m\u001b[0m\u001b[0m\n\u001b[0m",
      "\u001b[0;31mAttributeError\u001b[0m: module 'os' has no attribute 'abspath'"
     ]
    }
   ],
   "metadata": {}
  },
  {
   "cell_type": "code",
   "execution_count": 81,
   "source": [
    "k='ravkasd8*'"
   ],
   "outputs": [],
   "metadata": {}
  },
  {
   "cell_type": "code",
   "execution_count": 82,
   "source": [
    "import re"
   ],
   "outputs": [],
   "metadata": {}
  },
  {
   "cell_type": "code",
   "execution_count": 84,
   "source": [
    "re.sub('[^a-zA-Z0-9.]+', '',k)"
   ],
   "outputs": [
    {
     "output_type": "execute_result",
     "data": {
      "text/plain": [
       "'ravkasd8'"
      ]
     },
     "metadata": {},
     "execution_count": 84
    }
   ],
   "metadata": {}
  },
  {
   "cell_type": "code",
   "execution_count": null,
   "source": [],
   "outputs": [],
   "metadata": {}
  }
 ],
 "metadata": {
  "orig_nbformat": 4,
  "language_info": {
   "name": "python",
   "version": "3.6.9",
   "mimetype": "text/x-python",
   "codemirror_mode": {
    "name": "ipython",
    "version": 3
   },
   "pygments_lexer": "ipython3",
   "nbconvert_exporter": "python",
   "file_extension": ".py"
  },
  "kernelspec": {
   "name": "python3",
   "display_name": "Python 3.6.9 64-bit ('week2': venv)"
  },
  "interpreter": {
   "hash": "acbd23e4cdd5d01440052403936712a2db4c8d7f957041a1204c574362a330eb"
  }
 },
 "nbformat": 4,
 "nbformat_minor": 2
}